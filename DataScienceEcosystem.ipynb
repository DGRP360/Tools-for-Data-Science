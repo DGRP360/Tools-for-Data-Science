{
  "metadata": {
    "kernelspec": {
      "name": "python",
      "display_name": "Python (Pyodide)",
      "language": "python"
    },
    "language_info": {
      "codemirror_mode": {
        "name": "python",
        "version": 3
      },
      "file_extension": ".py",
      "mimetype": "text/x-python",
      "name": "python",
      "nbconvert_exporter": "python",
      "pygments_lexer": "ipython3",
      "version": "3.8"
    }
  },
  "nbformat_minor": 4,
  "nbformat": 4,
  "cells": [
    {
      "cell_type": "markdown",
      "source": "# Data Science Tools and Ecosystem",
      "metadata": {}
    },
    {
      "cell_type": "markdown",
      "source": "In the following notebook, the learned concepts regarding data science tools and ecosystems are summarized",
      "metadata": {}
    },
    {
      "cell_type": "markdown",
      "source": "Objetives:\n- List popular languages for data science\n- Name some useful libraries\n- Discovert data science tools\n- Genereate and solve arithmetic ecuations",
      "metadata": {}
    },
    {
      "cell_type": "markdown",
      "source": "Some of the most Languages for data scientist are:\n1. Python\n2. SQL\n3. R\n4. Java\n5. Scala\n6. C++",
      "metadata": {}
    },
    {
      "cell_type": "markdown",
      "source": "There are some commonly used librares among data scientists, some of these are:\n1. Pandas\n2. Numpy\n3. Mathplotlib\n4. seaborn\n5. keras\n6. TensorFlow\n7. PyTorch\n8. Scikit-learn",
      "metadata": {}
    },
    {
      "cell_type": "markdown",
      "source": "|Data Science Tools|\n|---|\nJupyterLite\nRStudio\nGoogleColab",
      "metadata": {}
    },
    {
      "cell_type": "markdown",
      "source": "### Below are a few examples of arithmetic expressions solve in python",
      "metadata": {}
    },
    {
      "cell_type": "code",
      "source": "(3*4)+5",
      "metadata": {
        "trusted": true
      },
      "outputs": [
        {
          "execution_count": 6,
          "output_type": "execute_result",
          "data": {
            "text/plain": "17"
          },
          "metadata": {}
        }
      ],
      "execution_count": 6
    },
    {
      "cell_type": "code",
      "source": "#This will convet 200 minutes to hours by diving by 60\n200/60",
      "metadata": {
        "trusted": true
      },
      "outputs": [
        {
          "execution_count": 9,
          "output_type": "execute_result",
          "data": {
            "text/plain": "3.3333333333333335"
          },
          "metadata": {}
        }
      ],
      "execution_count": 9
    },
    {
      "cell_type": "markdown",
      "source": "## Autor\nDavid Guillermo Ruiz Pardo",
      "metadata": {}
    },
    {
      "cell_type": "code",
      "source": "",
      "metadata": {
        "trusted": true
      },
      "outputs": [],
      "execution_count": null
    }
  ]
}